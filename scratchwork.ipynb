{
 "cells": [
  {
   "cell_type": "code",
   "execution_count": 62,
   "metadata": {},
   "outputs": [],
   "source": [
    "from bs4 import BeautifulSoup\n",
    "import requests\n",
    "from urllib.request import urlopen"
   ]
  },
  {
   "cell_type": "code",
   "execution_count": 63,
   "metadata": {},
   "outputs": [],
   "source": [
    "def generate_url(query):\n",
    "    return \"https://www.dictionary.com/browse/\" + \"%20\".join(query.split())"
   ]
  },
  {
   "cell_type": "code",
   "execution_count": 64,
   "metadata": {},
   "outputs": [],
   "source": [
    "def antonym(query):\n",
    "    url = \"https://www.antonym.com/synonyms/\"+ \"%20\".join(query.split())\n",
    "    request = requests.get(url).text\n",
    "    soup = BeautifulSoup(request, \"html.parser\")\n",
    "    antonym_tags = soup.find_all('div', \"card full-width mdc-card type-antonym\")\n",
    "    return antonym_tags[0].contents[3].contents[1].contents[0].strip()\n",
    "def extract(url):\n",
    "    request = requests.get(url).text\n",
    "    soup = BeautifulSoup(request, \"html.parser\")\n",
    "    block = soup.find_all('div', 'css-1avshm7 e16867sm0')\n",
    "    header = block[0].contents[0]\n",
    "    pos = block[0].contents[1].contents[0]\n",
    "    definition = block[0].contents[1].contents[1]\n",
    "    return (header, pos, definition)"
   ]
  },
  {
   "cell_type": "code",
   "execution_count": 65,
   "metadata": {},
   "outputs": [],
   "source": [
    "def page(query):\n",
    "    query_ant = antonym(query)\n",
    "    header, pos = extract(generate_url(query))[:2]\n",
    "    definition = extract(generate_url(query_ant))[2]\n",
    "    return (header, pos, definition)"
   ]
  },
  {
   "cell_type": "code",
   "execution_count": null,
   "metadata": {},
   "outputs": [],
   "source": []
  },
  {
   "cell_type": "code",
   "execution_count": null,
   "metadata": {},
   "outputs": [],
   "source": []
  },
  {
   "cell_type": "code",
   "execution_count": null,
   "metadata": {},
   "outputs": [],
   "source": []
  },
  {
   "cell_type": "code",
   "execution_count": null,
   "metadata": {},
   "outputs": [],
   "source": []
  }
 ],
 "metadata": {
  "kernelspec": {
   "display_name": "Python 3",
   "language": "python",
   "name": "python3"
  },
  "language_info": {
   "codemirror_mode": {
    "name": "ipython",
    "version": 3
   },
   "file_extension": ".py",
   "mimetype": "text/x-python",
   "name": "python",
   "nbconvert_exporter": "python",
   "pygments_lexer": "ipython3",
   "version": "3.8.3"
  }
 },
 "nbformat": 4,
 "nbformat_minor": 4
}
